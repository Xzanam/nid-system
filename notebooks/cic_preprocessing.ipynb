{
 "cells": [
  {
   "cell_type": "code",
   "execution_count": null,
   "metadata": {},
   "outputs": [],
   "source": [
    "import pandas as pd\n",
    "import numpy as np"
   ]
  },
  {
   "cell_type": "markdown",
   "metadata": {},
   "source": [
    "### first\n",
    "1. DDoS      128027\n",
    "2. BENIGN     97718\n",
    "### second\n",
    "1. PortScan    158930\n",
    "2. BENIGN      127537\n",
    "### third\n",
    "1. BENIGN                        168186\n",
    "2. Web Attack � Brute Force        1507\n",
    "3. Web Attack � XSS                 652\n",
    "4. Web Attack � Sql Injection        21\n",
    "### fourth\n",
    "1. BENIGN          288566\n",
    "2. Infiltration        36\n",
    "\n",
    "\n",
    "DDoS/3 + PortScan/3 + Web Attacks + Infiltration = 97867 (40% of total dataset - assumption)\n",
    "0.4 x total = 97867\n",
    "total = 244667\n",
    "benign = total- 97867 = 146800"
   ]
  },
  {
   "cell_type": "code",
   "execution_count": null,
   "metadata": {},
   "outputs": [],
   "source": [
    "new_df = pd.read_csv('CIC_dataset_csvs/Friday-WorkingHours-Afternoon-DDos.pcap_ISCX.csv')\n",
    "new_df[' Label'].value_counts()"
   ]
  },
  {
   "cell_type": "code",
   "execution_count": null,
   "metadata": {},
   "outputs": [],
   "source": [
    "ddos_df = new_df[new_df[' Label'] == 'DDoS']\n",
    "sampled_ddos_df = ddos_df.sample(frac=1/3, random_state=42)\n",
    "sampled_ddos_df.shape"
   ]
  },
  {
   "cell_type": "code",
   "execution_count": null,
   "metadata": {},
   "outputs": [],
   "source": [
    "string_columns = new_df.select_dtypes(include=['object']).columns\n",
    "print(string_columns)"
   ]
  },
  {
   "cell_type": "code",
   "execution_count": null,
   "metadata": {},
   "outputs": [],
   "source": [
    "new_df1 = pd.read_csv('CIC_dataset_csvs/Friday-WorkingHours-Afternoon-PortScan.pcap_ISCX.csv')\n",
    "new_df1[' Label'].value_counts()"
   ]
  },
  {
   "cell_type": "code",
   "execution_count": null,
   "metadata": {},
   "outputs": [],
   "source": [
    "portscan_df = new_df1[new_df1[' Label'] == 'PortScan']\n",
    "sampled_portscan_df = portscan_df.sample(frac = 1/3, random_state=42)\n",
    "sampled_portscan_df.shape"
   ]
  },
  {
   "cell_type": "code",
   "execution_count": null,
   "metadata": {},
   "outputs": [],
   "source": [
    "new_df2 = pd.read_csv('CIC_dataset_csvs/Thursday-WorkingHours-Morning-WebAttacks.pcap_ISCX.csv')\n",
    "new_df2[' Label'].value_counts()"
   ]
  },
  {
   "cell_type": "code",
   "execution_count": null,
   "metadata": {},
   "outputs": [],
   "source": [
    "webAttack_df = new_df2[new_df2[' Label'] != 'BENIGN']\n",
    "webAttack_df.shape"
   ]
  },
  {
   "cell_type": "code",
   "execution_count": null,
   "metadata": {},
   "outputs": [],
   "source": [
    "new_df3 = pd.read_csv('CIC_dataset_csvs/Thursday-WorkingHours-Afternoon-Infilteration.pcap_ISCX.csv')\n",
    "new_df3[' Label'].value_counts()"
   ]
  },
  {
   "cell_type": "code",
   "execution_count": null,
   "metadata": {},
   "outputs": [],
   "source": [
    "infil_df = new_df3[new_df3[' Label'] != 'BENIGN']\n",
    "infil_df.shape"
   ]
  },
  {
   "cell_type": "code",
   "execution_count": null,
   "metadata": {},
   "outputs": [],
   "source": [
    "attack_frame = pd.concat([sampled_ddos_df, sampled_portscan_df, webAttack_df, infil_df])\n",
    "\n",
    "shuffled_attack_frame = attack_frame.sample(frac=1, random_state=42).reset_index(drop=True)\n",
    "shuffled_attack_frame = shuffled_attack_frame.replace([np.inf, -np.inf], np.nan).dropna(axis=0)\n",
    "\n",
    "shuffled_attack_frame.shape\n",
    "\n",
    "shuffled_attack_frame.to_csv('CIC_anomaly_sampled.csv')"
   ]
  },
  {
   "cell_type": "code",
   "execution_count": 1,
   "metadata": {},
   "outputs": [
    {
     "ename": "NameError",
     "evalue": "name 'new_df' is not defined",
     "output_type": "error",
     "traceback": [
      "\u001b[0;31m---------------------------------------------------------------------------\u001b[0m",
      "\u001b[0;31mNameError\u001b[0m                                 Traceback (most recent call last)",
      "Cell \u001b[0;32mIn[1], line 2\u001b[0m\n\u001b[1;32m      1\u001b[0m \u001b[38;5;66;03m# Sample 36700 rows where 'Label' == 'BENIGN' from new_df\u001b[39;00m\n\u001b[0;32m----> 2\u001b[0m sampled_benign_df \u001b[38;5;241m=\u001b[39m \u001b[43mnew_df\u001b[49m[new_df[\u001b[38;5;124m'\u001b[39m\u001b[38;5;124m Label\u001b[39m\u001b[38;5;124m'\u001b[39m] \u001b[38;5;241m==\u001b[39m \u001b[38;5;124m'\u001b[39m\u001b[38;5;124mBENIGN\u001b[39m\u001b[38;5;124m'\u001b[39m]\u001b[38;5;241m.\u001b[39msample(n\u001b[38;5;241m=\u001b[39m\u001b[38;5;241m36700\u001b[39m, random_state\u001b[38;5;241m=\u001b[39m\u001b[38;5;241m42\u001b[39m)\n\u001b[1;32m      4\u001b[0m \u001b[38;5;66;03m# Sample 36700 rows where 'Label' == 'BENIGN' from new_df1\u001b[39;00m\n\u001b[1;32m      5\u001b[0m sampled_benign_df1 \u001b[38;5;241m=\u001b[39m new_df1[new_df1[\u001b[38;5;124m'\u001b[39m\u001b[38;5;124m Label\u001b[39m\u001b[38;5;124m'\u001b[39m] \u001b[38;5;241m==\u001b[39m \u001b[38;5;124m'\u001b[39m\u001b[38;5;124mBENIGN\u001b[39m\u001b[38;5;124m'\u001b[39m]\u001b[38;5;241m.\u001b[39msample(n\u001b[38;5;241m=\u001b[39m\u001b[38;5;241m36700\u001b[39m, random_state\u001b[38;5;241m=\u001b[39m\u001b[38;5;241m42\u001b[39m)\n",
      "\u001b[0;31mNameError\u001b[0m: name 'new_df' is not defined"
     ]
    }
   ],
   "source": [
    "# Sample 36700 rows where 'Label' == 'BENIGN' from new_df\n",
    "sampled_benign_df = new_df[new_df[' Label'] == 'BENIGN'].sample(n=36700, random_state=42)\n",
    "\n",
    "# Sample 36700 rows where 'Label' == 'BENIGN' from new_df1\n",
    "sampled_benign_df1 = new_df1[new_df1[' Label'] == 'BENIGN'].sample(n=36700, random_state=42)\n",
    "\n",
    "# Sample 36700 rows where 'Label' == 'BENIGN' from new_df2\n",
    "sampled_benign_df2 = new_df2[new_df2[' Label'] == 'BENIGN'].sample(n=36700, random_state=42)\n",
    "\n",
    "# Sample 36700 rows where 'Label' == 'BENIGN' from new_df3\n",
    "sampled_benign_df3 = new_df3[new_df3[' Label'] == 'BENIGN'].sample(n=36700, random_state=42)\n",
    "\n",
    "combined_benign_df = pd.concat([sampled_benign_df, sampled_benign_df1, sampled_benign_df2, sampled_benign_df3])\n",
    "combined_benign_df.shape\n",
    "\n",
    "combined_benign_df = combined_benign_df.replace([np.inf, -np.inf], np.nan).dropna(axis=0)\n",
    "combined_benign_df.to_csv('CIC_benign_sampled.csv')\n",
    "combined_benign_df.shape\n"
   ]
  },
  {
   "cell_type": "code",
   "execution_count": null,
   "metadata": {},
   "outputs": [],
   "source": []
  },
  {
   "cell_type": "code",
   "execution_count": null,
   "metadata": {},
   "outputs": [],
   "source": []
  },
  {
   "cell_type": "code",
   "execution_count": null,
   "metadata": {},
   "outputs": [],
   "source": []
  },
  {
   "cell_type": "code",
   "execution_count": null,
   "metadata": {},
   "outputs": [],
   "source": []
  }
 ],
 "metadata": {
  "kernelspec": {
   "display_name": "tf",
   "language": "python",
   "name": "python3"
  },
  "language_info": {
   "codemirror_mode": {
    "name": "ipython",
    "version": 3
   },
   "file_extension": ".py",
   "mimetype": "text/x-python",
   "name": "python",
   "nbconvert_exporter": "python",
   "pygments_lexer": "ipython3",
   "version": "3.12.3"
  }
 },
 "nbformat": 4,
 "nbformat_minor": 2
}
