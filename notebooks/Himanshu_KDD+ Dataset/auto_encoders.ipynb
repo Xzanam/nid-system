{
 "cells": [
  {
   "cell_type": "code",
   "execution_count": 9,
   "id": "086e207d-18b9-4db5-b57c-0af2bbf2000d",
   "metadata": {},
   "outputs": [],
   "source": [
    "import os\n",
    "import numpy as np\n",
    "import tensorflow as tf\n",
    "from tensorflow.keras import layers, losses\n",
    "from sklearn.model_selection import KFold\n",
    "from sklearn.preprocessing import StandardScaler\n",
    "from sklearn.metrics import roc_curve, auc\n",
    "from utils.preprocess_data_KDD_plus_test import preprocess_data\n",
    "from utils.plot import plot_roc_curve, plot_combined_roc_curve, save_loss_curve, save_combined_loss_curve"
   ]
  },
  {
   "cell_type": "code",
   "execution_count": 10,
   "id": "37613c23-bc4f-4bf6-94e8-2ad856452a6d",
   "metadata": {},
   "outputs": [],
   "source": [
    "# Preprocess data\n",
    "train_file_path = os.path.join('data', 'KDDTrain+.csv')\n",
    "test_file_path = os.path.join('data', 'KDDTest+.csv')\n",
    "preprocessing_models_folder = os.path.join('preprocessing_pipeline')\n",
    "X_train, X_test, y_train, y_test = preprocess_data(\n",
    "    train_file_path=train_file_path,\n",
    "    test_file_path=test_file_path,\n",
    "    preprocessing_models_folder=preprocessing_models_folder\n",
    ")\n",
    "\n",
    "# Set output folder\n",
    "current_directory = os.path.abspath(os.getcwd())\n",
    "output_folder = os.path.join(current_directory, \"autoencoder\")"
   ]
  },
  {
   "cell_type": "code",
   "execution_count": 11,
   "id": "98cccfe2-3077-40f4-8464-c109b0f50edc",
   "metadata": {},
   "outputs": [],
   "source": [
    "def build_autoencoder(input_shape):\n",
    "    \"\"\"Builds a simple Autoencoder model.\"\"\"\n",
    "    input_layer = tf.keras.layers.Input(shape=input_shape)\n",
    "    encoded = tf.keras.layers.Dense(64, activation='relu')(input_layer)\n",
    "    encoded = tf.keras.layers.Dense(32, activation='relu')(encoded)\n",
    "    decoded = tf.keras.layers.Dense(64, activation='relu')(encoded)\n",
    "    decoded = tf.keras.layers.Dense(input_shape[0], activation='sigmoid')(decoded)\n",
    "    \n",
    "    autoencoder = tf.keras.models.Model(input_layer, decoded)\n",
    "    autoencoder.compile(optimizer='adam', loss=losses.MeanSquaredError())\n",
    "    return autoencoder"
   ]
  },
  {
   "cell_type": "code",
   "execution_count": 12,
   "id": "31594c70-8adb-4726-9fdb-66deda4c4eea",
   "metadata": {},
   "outputs": [],
   "source": [
    "\n",
    "def autoencoder_kfold(X, k=5, epochs=10, batch_size=256, output_folder=output_folder):\n",
    "    \"\"\"Trains Autoencoder using K-Fold cross-validation, generates ROC curves, and saves combined loss curve.\"\"\"\n",
    "    os.makedirs(output_folder, exist_ok=True)\n",
    "    kf = KFold(n_splits=k, shuffle=True, random_state=42)\n",
    "\n",
    "    all_fpr = []\n",
    "    all_tpr = []\n",
    "    all_auc = []\n",
    "    all_fold_losses = []\n",
    "    fold_index = 0\n",
    "\n",
    "    for train_index, val_index in kf.split(X):\n",
    "        print(f\"running fold-{fold_index + 1}\")\n",
    "        X_train_fold, X_val_fold = X[train_index], X[val_index]\n",
    "\n",
    "        # Build and train the Autoencoder model\n",
    "        input_shape = (X_train_fold.shape[1],)\n",
    "        autoencoder = build_autoencoder(input_shape)\n",
    "\n",
    "        # Store training loss history for each fold\n",
    "        history = autoencoder.fit(X_train_fold, X_train_fold, epochs=epochs, batch_size=batch_size, shuffle=True, validation_data=(X_val_fold, X_val_fold), verbose=0)\n",
    "\n",
    "        # Collect losses from the current fold\n",
    "        all_fold_losses.append(history.history['loss'])\n",
    "\n",
    "        # Predict reconstruction error for validation data\n",
    "        X_val_reconstructed = autoencoder.predict(X_val_fold)\n",
    "        reconstruction_error = np.mean(np.square(X_val_fold - X_val_reconstructed), axis=1)\n",
    "\n",
    "        # Compute ROC curve and AUC for the current fold\n",
    "        fpr, tpr, _ = roc_curve(y_train[val_index], reconstruction_error)\n",
    "        roc_auc = auc(fpr, tpr)\n",
    "        all_fpr.append(fpr)\n",
    "        all_tpr.append(tpr)\n",
    "        all_auc.append(roc_auc)\n",
    "\n",
    "        # Plot ROC curve for the current fold\n",
    "        plot_roc_curve(fpr, tpr, roc_auc, f'fold-{fold_index+1}', output_folder)\n",
    "\n",
    "        print(f\"fold-{fold_index + 1} complete\")\n",
    "        fold_index += 1\n",
    "\n",
    "    # Plot combined ROC curves for all folds\n",
    "    plot_combined_roc_curve(all_fpr, all_tpr, all_auc, k, output_folder)\n",
    "\n",
    "    print(f\"K-Fold cross-validation completed. Results saved in {output_folder}\")\n",
    "\n",
    "    return all_fold_losses  # Return all fold losses for further plotting\n"
   ]
  },
  {
   "cell_type": "code",
   "execution_count": 13,
   "id": "66559083-7705-4974-b142-831109ff6bbb",
   "metadata": {},
   "outputs": [],
   "source": [
    "def final_evaluation(X, X_test, y_test, epochs=10, batch_size=256, output_folder=output_folder):\n",
    "    \"\"\"Trains the final Autoencoder model on the full training set and evaluates on the test set.\"\"\"\n",
    "    print(\"Final evaluation on test set:\")\n",
    "    \n",
    "    # Build and train the final Autoencoder model\n",
    "    input_shape = (X.shape[1],)\n",
    "    autoencoder_final = build_autoencoder(input_shape)\n",
    "\n",
    "    # Store training loss history for final evaluation\n",
    "    history_final = autoencoder_final.fit(X, X, epochs=epochs, batch_size=batch_size, shuffle=True, verbose=0)\n",
    "\n",
    "    # Predict reconstruction error for test data\n",
    "    X_test_reconstructed = autoencoder_final.predict(X_test)\n",
    "    reconstruction_error_test = np.mean(np.square(X_test - X_test_reconstructed), axis=1)\n",
    "\n",
    "    # ROC Curve for test data\n",
    "    fpr_test, tpr_test, _ = roc_curve(y_test, reconstruction_error_test)\n",
    "    roc_auc_test = auc(fpr_test, tpr_test)\n",
    "    plot_roc_curve(fpr_test, tpr_test, roc_auc_test, 'test_final', output_folder)\n",
    "\n",
    "    print(f\"Final test evaluation and plots saved in {output_folder}\")\n",
    "\n",
    "    return history_final.history['loss']  # Return final model loss"
   ]
  },
  {
   "cell_type": "code",
   "execution_count": 14,
   "id": "f0d7d695-a8bd-4195-90a2-249056226a60",
   "metadata": {},
   "outputs": [
    {
     "name": "stdout",
     "output_type": "stream",
     "text": [
      "running fold-1\n",
      "\u001b[1m784/784\u001b[0m \u001b[32m━━━━━━━━━━━━━━━━━━━━\u001b[0m\u001b[37m\u001b[0m \u001b[1m0s\u001b[0m 509us/step\n"
     ]
    },
    {
     "ename": "ValueError",
     "evalue": "y should be a 1d array, got an array of shape (25084, 16) instead.",
     "output_type": "error",
     "traceback": [
      "\u001b[0;31m---------------------------------------------------------------------------\u001b[0m",
      "\u001b[0;31mValueError\u001b[0m                                Traceback (most recent call last)",
      "Cell \u001b[0;32mIn[6], line 2\u001b[0m\n\u001b[1;32m      1\u001b[0m \u001b[38;5;66;03m# Run K-Fold cross-validation and save combined loss curve\u001b[39;00m\n\u001b[0;32m----> 2\u001b[0m all_fold_losses \u001b[38;5;241m=\u001b[39m \u001b[43mautoencoder_kfold\u001b[49m\u001b[43m(\u001b[49m\u001b[43mX_train\u001b[49m\u001b[43m,\u001b[49m\u001b[43m \u001b[49m\u001b[43mk\u001b[49m\u001b[38;5;241;43m=\u001b[39;49m\u001b[38;5;241;43m5\u001b[39;49m\u001b[43m,\u001b[49m\u001b[43m \u001b[49m\u001b[43mepochs\u001b[49m\u001b[38;5;241;43m=\u001b[39;49m\u001b[38;5;241;43m10\u001b[39;49m\u001b[43m,\u001b[49m\u001b[43m \u001b[49m\u001b[43mbatch_size\u001b[49m\u001b[38;5;241;43m=\u001b[39;49m\u001b[38;5;241;43m256\u001b[39;49m\u001b[43m,\u001b[49m\u001b[43m \u001b[49m\u001b[43moutput_folder\u001b[49m\u001b[38;5;241;43m=\u001b[39;49m\u001b[43moutput_folder\u001b[49m\u001b[43m)\u001b[49m\n",
      "Cell \u001b[0;32mIn[4], line 30\u001b[0m, in \u001b[0;36mautoencoder_kfold\u001b[0;34m(X, k, epochs, batch_size, output_folder)\u001b[0m\n\u001b[1;32m     27\u001b[0m X_val_reconstructed \u001b[38;5;241m=\u001b[39m autoencoder\u001b[38;5;241m.\u001b[39mpredict(X_val_fold)\n\u001b[1;32m     29\u001b[0m \u001b[38;5;66;03m# Compute ROC curve and AUC for the current fold\u001b[39;00m\n\u001b[0;32m---> 30\u001b[0m fpr, tpr, _ \u001b[38;5;241m=\u001b[39m \u001b[43mroc_curve\u001b[49m\u001b[43m(\u001b[49m\u001b[43my_train\u001b[49m\u001b[43m[\u001b[49m\u001b[43mval_index\u001b[49m\u001b[43m]\u001b[49m\u001b[43m,\u001b[49m\u001b[43m \u001b[49m\u001b[43mX_val_reconstructed\u001b[49m\u001b[43m)\u001b[49m\n\u001b[1;32m     31\u001b[0m roc_auc \u001b[38;5;241m=\u001b[39m auc(fpr, tpr)\n\u001b[1;32m     32\u001b[0m all_fpr\u001b[38;5;241m.\u001b[39mappend(fpr)\n",
      "File \u001b[0;32m/opt/homebrew/Caskroom/miniconda/base/envs/py310tf2/lib/python3.10/site-packages/sklearn/utils/_param_validation.py:213\u001b[0m, in \u001b[0;36mvalidate_params.<locals>.decorator.<locals>.wrapper\u001b[0;34m(*args, **kwargs)\u001b[0m\n\u001b[1;32m    207\u001b[0m \u001b[38;5;28;01mtry\u001b[39;00m:\n\u001b[1;32m    208\u001b[0m     \u001b[38;5;28;01mwith\u001b[39;00m config_context(\n\u001b[1;32m    209\u001b[0m         skip_parameter_validation\u001b[38;5;241m=\u001b[39m(\n\u001b[1;32m    210\u001b[0m             prefer_skip_nested_validation \u001b[38;5;129;01mor\u001b[39;00m global_skip_validation\n\u001b[1;32m    211\u001b[0m         )\n\u001b[1;32m    212\u001b[0m     ):\n\u001b[0;32m--> 213\u001b[0m         \u001b[38;5;28;01mreturn\u001b[39;00m \u001b[43mfunc\u001b[49m\u001b[43m(\u001b[49m\u001b[38;5;241;43m*\u001b[39;49m\u001b[43margs\u001b[49m\u001b[43m,\u001b[49m\u001b[43m \u001b[49m\u001b[38;5;241;43m*\u001b[39;49m\u001b[38;5;241;43m*\u001b[39;49m\u001b[43mkwargs\u001b[49m\u001b[43m)\u001b[49m\n\u001b[1;32m    214\u001b[0m \u001b[38;5;28;01mexcept\u001b[39;00m InvalidParameterError \u001b[38;5;28;01mas\u001b[39;00m e:\n\u001b[1;32m    215\u001b[0m     \u001b[38;5;66;03m# When the function is just a wrapper around an estimator, we allow\u001b[39;00m\n\u001b[1;32m    216\u001b[0m     \u001b[38;5;66;03m# the function to delegate validation to the estimator, but we replace\u001b[39;00m\n\u001b[1;32m    217\u001b[0m     \u001b[38;5;66;03m# the name of the estimator by the name of the function in the error\u001b[39;00m\n\u001b[1;32m    218\u001b[0m     \u001b[38;5;66;03m# message to avoid confusion.\u001b[39;00m\n\u001b[1;32m    219\u001b[0m     msg \u001b[38;5;241m=\u001b[39m re\u001b[38;5;241m.\u001b[39msub(\n\u001b[1;32m    220\u001b[0m         \u001b[38;5;124mr\u001b[39m\u001b[38;5;124m\"\u001b[39m\u001b[38;5;124mparameter of \u001b[39m\u001b[38;5;124m\\\u001b[39m\u001b[38;5;124mw+ must be\u001b[39m\u001b[38;5;124m\"\u001b[39m,\n\u001b[1;32m    221\u001b[0m         \u001b[38;5;124mf\u001b[39m\u001b[38;5;124m\"\u001b[39m\u001b[38;5;124mparameter of \u001b[39m\u001b[38;5;132;01m{\u001b[39;00mfunc\u001b[38;5;241m.\u001b[39m\u001b[38;5;18m__qualname__\u001b[39m\u001b[38;5;132;01m}\u001b[39;00m\u001b[38;5;124m must be\u001b[39m\u001b[38;5;124m\"\u001b[39m,\n\u001b[1;32m    222\u001b[0m         \u001b[38;5;28mstr\u001b[39m(e),\n\u001b[1;32m    223\u001b[0m     )\n",
      "File \u001b[0;32m/opt/homebrew/Caskroom/miniconda/base/envs/py310tf2/lib/python3.10/site-packages/sklearn/metrics/_ranking.py:1108\u001b[0m, in \u001b[0;36mroc_curve\u001b[0;34m(y_true, y_score, pos_label, sample_weight, drop_intermediate)\u001b[0m\n\u001b[1;32m   1006\u001b[0m \u001b[38;5;129m@validate_params\u001b[39m(\n\u001b[1;32m   1007\u001b[0m     {\n\u001b[1;32m   1008\u001b[0m         \u001b[38;5;124m\"\u001b[39m\u001b[38;5;124my_true\u001b[39m\u001b[38;5;124m\"\u001b[39m: [\u001b[38;5;124m\"\u001b[39m\u001b[38;5;124marray-like\u001b[39m\u001b[38;5;124m\"\u001b[39m],\n\u001b[0;32m   (...)\u001b[0m\n\u001b[1;32m   1017\u001b[0m     y_true, y_score, \u001b[38;5;241m*\u001b[39m, pos_label\u001b[38;5;241m=\u001b[39m\u001b[38;5;28;01mNone\u001b[39;00m, sample_weight\u001b[38;5;241m=\u001b[39m\u001b[38;5;28;01mNone\u001b[39;00m, drop_intermediate\u001b[38;5;241m=\u001b[39m\u001b[38;5;28;01mTrue\u001b[39;00m\n\u001b[1;32m   1018\u001b[0m ):\n\u001b[1;32m   1019\u001b[0m \u001b[38;5;250m    \u001b[39m\u001b[38;5;124;03m\"\"\"Compute Receiver operating characteristic (ROC).\u001b[39;00m\n\u001b[1;32m   1020\u001b[0m \n\u001b[1;32m   1021\u001b[0m \u001b[38;5;124;03m    Note: this implementation is restricted to the binary classification task.\u001b[39;00m\n\u001b[0;32m   (...)\u001b[0m\n\u001b[1;32m   1106\u001b[0m \u001b[38;5;124;03m    array([ inf, 0.8 , 0.4 , 0.35, 0.1 ])\u001b[39;00m\n\u001b[1;32m   1107\u001b[0m \u001b[38;5;124;03m    \"\"\"\u001b[39;00m\n\u001b[0;32m-> 1108\u001b[0m     fps, tps, thresholds \u001b[38;5;241m=\u001b[39m \u001b[43m_binary_clf_curve\u001b[49m\u001b[43m(\u001b[49m\n\u001b[1;32m   1109\u001b[0m \u001b[43m        \u001b[49m\u001b[43my_true\u001b[49m\u001b[43m,\u001b[49m\u001b[43m \u001b[49m\u001b[43my_score\u001b[49m\u001b[43m,\u001b[49m\u001b[43m \u001b[49m\u001b[43mpos_label\u001b[49m\u001b[38;5;241;43m=\u001b[39;49m\u001b[43mpos_label\u001b[49m\u001b[43m,\u001b[49m\u001b[43m \u001b[49m\u001b[43msample_weight\u001b[49m\u001b[38;5;241;43m=\u001b[39;49m\u001b[43msample_weight\u001b[49m\n\u001b[1;32m   1110\u001b[0m \u001b[43m    \u001b[49m\u001b[43m)\u001b[49m\n\u001b[1;32m   1112\u001b[0m     \u001b[38;5;66;03m# Attempt to drop thresholds corresponding to points in between and\u001b[39;00m\n\u001b[1;32m   1113\u001b[0m     \u001b[38;5;66;03m# collinear with other points. These are always suboptimal and do not\u001b[39;00m\n\u001b[1;32m   1114\u001b[0m     \u001b[38;5;66;03m# appear on a plotted ROC curve (and thus do not affect the AUC).\u001b[39;00m\n\u001b[0;32m   (...)\u001b[0m\n\u001b[1;32m   1119\u001b[0m     \u001b[38;5;66;03m# but does not drop more complicated cases like fps = [1, 3, 7],\u001b[39;00m\n\u001b[1;32m   1120\u001b[0m     \u001b[38;5;66;03m# tps = [1, 2, 4]; there is no harm in keeping too many thresholds.\u001b[39;00m\n\u001b[1;32m   1121\u001b[0m     \u001b[38;5;28;01mif\u001b[39;00m drop_intermediate \u001b[38;5;129;01mand\u001b[39;00m \u001b[38;5;28mlen\u001b[39m(fps) \u001b[38;5;241m>\u001b[39m \u001b[38;5;241m2\u001b[39m:\n",
      "File \u001b[0;32m/opt/homebrew/Caskroom/miniconda/base/envs/py310tf2/lib/python3.10/site-packages/sklearn/metrics/_ranking.py:821\u001b[0m, in \u001b[0;36m_binary_clf_curve\u001b[0;34m(y_true, y_score, pos_label, sample_weight)\u001b[0m\n\u001b[1;32m    819\u001b[0m check_consistent_length(y_true, y_score, sample_weight)\n\u001b[1;32m    820\u001b[0m y_true \u001b[38;5;241m=\u001b[39m column_or_1d(y_true)\n\u001b[0;32m--> 821\u001b[0m y_score \u001b[38;5;241m=\u001b[39m \u001b[43mcolumn_or_1d\u001b[49m\u001b[43m(\u001b[49m\u001b[43my_score\u001b[49m\u001b[43m)\u001b[49m\n\u001b[1;32m    822\u001b[0m assert_all_finite(y_true)\n\u001b[1;32m    823\u001b[0m assert_all_finite(y_score)\n",
      "File \u001b[0;32m/opt/homebrew/Caskroom/miniconda/base/envs/py310tf2/lib/python3.10/site-packages/sklearn/utils/validation.py:1367\u001b[0m, in \u001b[0;36mcolumn_or_1d\u001b[0;34m(y, dtype, warn)\u001b[0m\n\u001b[1;32m   1356\u001b[0m         warnings\u001b[38;5;241m.\u001b[39mwarn(\n\u001b[1;32m   1357\u001b[0m             (\n\u001b[1;32m   1358\u001b[0m                 \u001b[38;5;124m\"\u001b[39m\u001b[38;5;124mA column-vector y was passed when a 1d array was\u001b[39m\u001b[38;5;124m\"\u001b[39m\n\u001b[0;32m   (...)\u001b[0m\n\u001b[1;32m   1363\u001b[0m             stacklevel\u001b[38;5;241m=\u001b[39m\u001b[38;5;241m2\u001b[39m,\n\u001b[1;32m   1364\u001b[0m         )\n\u001b[1;32m   1365\u001b[0m     \u001b[38;5;28;01mreturn\u001b[39;00m _asarray_with_order(xp\u001b[38;5;241m.\u001b[39mreshape(y, (\u001b[38;5;241m-\u001b[39m\u001b[38;5;241m1\u001b[39m,)), order\u001b[38;5;241m=\u001b[39m\u001b[38;5;124m\"\u001b[39m\u001b[38;5;124mC\u001b[39m\u001b[38;5;124m\"\u001b[39m, xp\u001b[38;5;241m=\u001b[39mxp)\n\u001b[0;32m-> 1367\u001b[0m \u001b[38;5;28;01mraise\u001b[39;00m \u001b[38;5;167;01mValueError\u001b[39;00m(\n\u001b[1;32m   1368\u001b[0m     \u001b[38;5;124m\"\u001b[39m\u001b[38;5;124my should be a 1d array, got an array of shape \u001b[39m\u001b[38;5;132;01m{}\u001b[39;00m\u001b[38;5;124m instead.\u001b[39m\u001b[38;5;124m\"\u001b[39m\u001b[38;5;241m.\u001b[39mformat(shape)\n\u001b[1;32m   1369\u001b[0m )\n",
      "\u001b[0;31mValueError\u001b[0m: y should be a 1d array, got an array of shape (25084, 16) instead."
     ]
    }
   ],
   "source": [
    "# Run K-Fold cross-validation and save combined loss curve\n",
    "all_fold_losses = autoencoder_kfold(X_train, k=5, epochs=10, batch_size=256, output_folder=output_folder)\n"
   ]
  },
  {
   "cell_type": "code",
   "execution_count": 15,
   "id": "616c2477-82e3-41b4-a434-46deaffcd515",
   "metadata": {},
   "outputs": [],
   "source": [
    "\n",
    "# Final evaluation on the test set and get final model loss\n",
    "final_model_loss = final_evaluation(X_train, X_test, y_test, epochs=10, batch_size=256, output_folder=output_folder)\n",
    "\n"
   ]
  },
  {
   "cell_type": "code",
   "execution_count": 16,
   "id": "162e0d53-eaf5-4e0a-99fe-e29f6b298fa0",
   "metadata": {},
   "outputs": [],
   "source": [
    "# Save combined loss curve for K-Fold and final model in one file\n",
    "save_combined_loss_curve(all_fold_losses, final_model_loss, output_folder)"
   ]
  },
  {
   "cell_type": "code",
   "execution_count": null,
   "id": "e10e95f4-490c-4db9-9db2-596fbb40eb7f",
   "metadata": {},
   "outputs": [],
   "source": []
  }
 ],
 "metadata": {
  "kernelspec": {
   "display_name": "py310tf2",
   "language": "python",
   "name": "py310tf2"
  },
  "language_info": {
   "codemirror_mode": {
    "name": "ipython",
    "version": 3
   },
   "file_extension": ".py",
   "mimetype": "text/x-python",
   "name": "python",
   "nbconvert_exporter": "python",
   "pygments_lexer": "ipython3",
   "version": "3.10.9"
  }
 },
 "nbformat": 4,
 "nbformat_minor": 5
}
