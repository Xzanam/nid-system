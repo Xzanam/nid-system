{
 "cells": [
  {
   "cell_type": "code",
   "execution_count": 6,
   "id": "7c7f3573-129c-449c-82cb-d56f58d0e35c",
   "metadata": {},
   "outputs": [],
   "source": [
    "import os\n",
    "import joblib\n",
    "from xgboost import XGBClassifier\n",
    "from sklearn.metrics import classification_report, confusion_matrix, roc_curve, auc\n",
    "import numpy as np\n"
   ]
  },
  {
   "cell_type": "code",
   "execution_count": 7,
   "id": "e6c6256e-0f1c-418c-a649-8f9a7b52ad5d",
   "metadata": {},
   "outputs": [],
   "source": [
    "from utils.preprocess_data_KDD_plus_test import preprocess_data\n",
    "from utils.plot import plot_roc_curve, plot_threshold_metrics, save_classification_reports_for_thresholds\n"
   ]
  },
  {
   "cell_type": "code",
   "execution_count": 8,
   "id": "7684ff74-c925-49a7-8611-d71e6addcb93",
   "metadata": {},
   "outputs": [],
   "source": [
    "# File paths\n",
    "train_file_path = os.path.join( 'data', 'KDDTrain+.csv')\n",
    "test_file_path = os.path.join('data', 'KDDTest+.csv')\n",
    "\n",
    "# Preprocess data\n",
    "preprocessing_models_folder = os.path.join('preprocessing_pipeline')\n",
    "X_train, X_test, y_train, y_test = preprocess_data(\n",
    "    train_file_path=train_file_path,\n",
    "    test_file_path=test_file_path,\n",
    "    preprocessing_models_folder=preprocessing_models_folder\n",
    ")\n",
    "\n",
    "# Set output folder\n",
    "current_directory = os.path.abspath(os.getcwd())\n",
    "output_folder = os.path.join(current_directory, \"xgboost\")"
   ]
  },
  {
   "cell_type": "code",
   "execution_count": 9,
   "id": "c430b575-e689-41b2-ba5f-3c0b4843f9cf",
   "metadata": {},
   "outputs": [],
   "source": [
    "def train_xgboost(X_train, X_test, y_train, y_test, output_folder=output_folder):\n",
    "    \"\"\"Trains an XGBoost model, makes predictions, generates reports, and plots ROC curves.\"\"\"\n",
    "    os.makedirs(output_folder, exist_ok=True)\n",
    "\n",
    "    # Initialize and train the XGBoost model\n",
    "    xgb = XGBClassifier(use_label_encoder=False, eval_metric='logloss', random_state=42)\n",
    "    xgb.fit(X_train, y_train)\n",
    "\n",
    "    # Save the trained model\n",
    "    model_path = os.path.join(output_folder, \"xgboost_model.pkl\")\n",
    "    joblib.dump(xgb, model_path)\n",
    "\n",
    "    # Make predictions\n",
    "    y_pred_train = xgb.predict(X_train)\n",
    "    y_pred_test = xgb.predict(X_test)\n",
    "\n",
    "    # Predicted probabilities for ROC curve\n",
    "    y_prob_train = xgb.predict_proba(X_train)[:, 1]\n",
    "    y_prob_test = xgb.predict_proba(X_test)[:, 1]\n",
    "\n",
    "    # Classification reports and accuracy\n",
    "    report_train = classification_report(y_train, y_pred_train)\n",
    "    report_test = classification_report(y_test, y_pred_test)\n",
    "\n",
    "    # Confusion matrix\n",
    "    cm_train = confusion_matrix(y_train, y_pred_train)\n",
    "    cm_test = confusion_matrix(y_test, y_pred_test)\n",
    "\n",
    "    # Save reports to text files\n",
    "    with open(os.path.join(output_folder, \"train_report.txt\"), \"w\") as f:\n",
    "        f.write(\"Classification Report (Train):\\n\")\n",
    "        f.write(report_train)\n",
    "        f.write(\"\\nConfusion Matrix (Train):\\n\")\n",
    "        f.write(str(cm_train))\n",
    "\n",
    "    with open(os.path.join(output_folder, \"test_report.txt\"), \"w\") as f:\n",
    "        f.write(\"Classification Report (Test):\\n\")\n",
    "        f.write(report_test)\n",
    "        f.write(\"\\nConfusion Matrix (Test):\\n\")\n",
    "        f.write(str(cm_test))\n",
    "\n",
    "    # ROC Curve for training data\n",
    "    fpr_train, tpr_train, _ = roc_curve(y_train, y_prob_train)\n",
    "    roc_auc_train = auc(fpr_train, tpr_train)\n",
    "    plot_roc_curve(fpr_train, tpr_train, roc_auc_train, 'train', output_folder)\n",
    "\n",
    "    # ROC Curve for test data\n",
    "    fpr_test, tpr_test, _ = roc_curve(y_test, y_prob_test)\n",
    "    roc_auc_test = auc(fpr_test, tpr_test)\n",
    "    plot_roc_curve(fpr_test, tpr_test, roc_auc_test, 'test', output_folder)\n",
    "\n",
    "    # Threshold analysis for train and test data\n",
    "    thresholds = np.arange(0.1, 1.0, 0.05)\n",
    "\n",
    "    # Calculate metrics for different thresholds\n",
    "    train_precision_at_threshold = [np.mean(y_prob_train >= t) for t in thresholds]\n",
    "    train_recall_at_threshold = [np.mean(y_train[y_prob_train >= t] == 1) for t in thresholds]\n",
    "    test_precision_at_threshold = [np.mean(y_prob_test >= t) for t in thresholds]\n",
    "    test_recall_at_threshold = [np.mean(y_test[y_prob_test >= t] == 1) for t in thresholds]\n",
    "\n",
    "    # Plot Precision and Recall vs Threshold for train data\n",
    "    plot_threshold_metrics(thresholds, train_precision_at_threshold, 'Precision', 'train', output_folder)\n",
    "    plot_threshold_metrics(thresholds, train_recall_at_threshold, 'Recall', 'train', output_folder)\n",
    "\n",
    "    # Plot Precision and Recall vs Threshold for test data\n",
    "    plot_threshold_metrics(thresholds, test_precision_at_threshold, 'Precision', 'test', output_folder)\n",
    "    plot_threshold_metrics(thresholds, test_recall_at_threshold, 'Recall', 'test', output_folder)\n",
    "\n",
    "    # Save classification reports for different thresholds\n",
    "    save_classification_reports_for_thresholds(thresholds, y_train, y_prob_train, output_folder, 'train')\n",
    "    save_classification_reports_for_thresholds(thresholds, y_test, y_prob_test, output_folder, 'test')\n",
    "\n",
    "    print(f\"XGBoost model, reports, ROC curves, and threshold metrics saved in {output_folder}\")\n",
    "\n"
   ]
  },
  {
   "cell_type": "code",
   "execution_count": 10,
   "id": "ce2791e5-3bff-47eb-8942-f9259d9c3b3b",
   "metadata": {},
   "outputs": [
    {
     "name": "stderr",
     "output_type": "stream",
     "text": [
      "/opt/homebrew/Caskroom/miniconda/base/envs/py310tf2/lib/python3.10/site-packages/xgboost/core.py:158: UserWarning: [11:42:52] WARNING: /Users/runner/work/xgboost/xgboost/src/learner.cc:740: \n",
      "Parameters: { \"use_label_encoder\" } are not used.\n",
      "\n",
      "  warnings.warn(smsg, UserWarning)\n"
     ]
    },
    {
     "name": "stdout",
     "output_type": "stream",
     "text": [
      "XGBoost model, reports, ROC curves, and threshold metrics saved in /Users/himanshupradhan/coding/Projects/Major Project/IDS/KDD+ Dataset/xgboost\n"
     ]
    }
   ],
   "source": [
    "# Train and evaluate the XGBoost model\n",
    "train_xgboost(X_train, X_test, y_train, y_test)"
   ]
  },
  {
   "cell_type": "code",
   "execution_count": null,
   "id": "e80689c2-8f6c-459a-890c-863384918d8e",
   "metadata": {},
   "outputs": [],
   "source": []
  }
 ],
 "metadata": {
  "kernelspec": {
   "display_name": "py310tf2",
   "language": "python",
   "name": "py310tf2"
  },
  "language_info": {
   "codemirror_mode": {
    "name": "ipython",
    "version": 3
   },
   "file_extension": ".py",
   "mimetype": "text/x-python",
   "name": "python",
   "nbconvert_exporter": "python",
   "pygments_lexer": "ipython3",
   "version": "3.10.9"
  }
 },
 "nbformat": 4,
 "nbformat_minor": 5
}
