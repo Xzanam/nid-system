{
 "cells": [
  {
   "cell_type": "code",
   "execution_count": 1,
   "id": "305d3a5e-d52b-41ed-abd0-48bad92c0cf5",
   "metadata": {},
   "outputs": [],
   "source": [
    "import os\n",
    "import joblib\n",
    "import numpy as np\n",
    "from sklearn.svm import SVC\n",
    "from sklearn.metrics import roc_curve, auc\n",
    "from sklearn.model_selection import KFold\n",
    "from utils.preprocess_data_KDD_plus_test import preprocess_data\n",
    "from utils.plot import plot_roc_curve, plot_threshold_metrics, save_classification_reports_for_thresholds, plot_combined_roc_curve\n"
   ]
  },
  {
   "cell_type": "code",
   "execution_count": 2,
   "id": "fd43de68-d9f0-44ec-92c8-e35b9472abaf",
   "metadata": {},
   "outputs": [],
   "source": [
    "# File paths\n",
    "train_file_path = os.path.join( 'data', 'KDDTrain+.csv')\n",
    "test_file_path = os.path.join('data', 'KDDTest+.csv')\n",
    "\n",
    "# Preprocess data\n",
    "preprocessing_models_folder = os.path.join('preprocessing_pipeline')\n",
    "X_train, X_test, y_train, y_test = preprocess_data(\n",
    "    train_file_path=train_file_path,\n",
    "    test_file_path=test_file_path,\n",
    "    preprocessing_models_folder=preprocessing_models_folder\n",
    ")\n",
    "\n",
    "# Set output folder\n",
    "current_directory = os.path.abspath(os.getcwd())\n",
    "output_folder = os.path.join(current_directory, \"svm\")\n"
   ]
  },
  {
   "cell_type": "code",
   "execution_count": 3,
   "id": "8e29e768-9ee9-46cb-adb3-c609e946e5a4",
   "metadata": {},
   "outputs": [],
   "source": [
    "def svm_kfold(X, y, k=5, output_folder=output_folder):\n",
    "    \"\"\"Trains SVM using K-Fold cross-validation, generates reports, and plots combined ROC curves.\"\"\"\n",
    "    os.makedirs(output_folder, exist_ok=True)\n",
    "    kf = KFold(n_splits=k, shuffle=True, random_state=42)\n",
    "\n",
    "    all_fpr = []\n",
    "    all_tpr = []\n",
    "    all_auc = []\n",
    "    fold_index = 0\n",
    "    thresholds = np.arange(0.1, 1.0, 0.05)\n",
    "\n",
    "    for train_index, test_index in kf.split(X):\n",
    "        print(f\"running fold-{fold_index + 1}\")\n",
    "        X_train, X_val = X[train_index], X[test_index]\n",
    "        y_train, y_val = y[train_index], y[test_index]\n",
    "\n",
    "        # Initialize and train the SVM model\n",
    "        svm = SVC(probability=True, random_state=42)\n",
    "        svm.fit(X_train, y_train)\n",
    "\n",
    "        # Predict probabilities for ROC curve\n",
    "        y_prob_val = svm.predict_proba(X_val)[:, 1]\n",
    "\n",
    "        # Compute ROC curve and AUC for the current fold\n",
    "        fpr, tpr, _ = roc_curve(y_val, y_prob_val)\n",
    "        roc_auc = auc(fpr, tpr)\n",
    "        all_fpr.append(fpr)\n",
    "        all_tpr.append(tpr)\n",
    "        all_auc.append(roc_auc)\n",
    "\n",
    "        # Plot ROC curve for the current fold\n",
    "        plot_roc_curve(fpr, tpr, roc_auc, f'fold-{fold_index+1}', output_folder)\n",
    "\n",
    "        print(f\"fold-{fold_index + 1} complete\")\n",
    "        fold_index += 1\n",
    "\n",
    "    # Plot combined ROC curves for all folds\n",
    "    plot_combined_roc_curve(all_fpr, all_tpr, all_auc, k, output_folder)\n",
    "\n",
    "    print(f\"K-Fold cross-validation completed. Results saved in {output_folder}\")\n"
   ]
  },
  {
   "cell_type": "code",
   "execution_count": 4,
   "id": "42c94c46-0818-4102-b902-edc4eeeb4b6d",
   "metadata": {},
   "outputs": [],
   "source": [
    "def train_svm(X, y, X_test, y_test, output_folder=output_folder):\n",
    "    \"\"\"Trains the final SVM model on the full training set and evaluates on the test set.\"\"\"\n",
    "    thresholds = np.arange(0.1, 1.0, 0.05)\n",
    "\n",
    "    # Final evaluation on test set (X_test, y_test)\n",
    "    print(\"Final evaluation on test set:\")\n",
    "    svm_final = SVC(probability=True, random_state=42)\n",
    "    svm_final.fit(X, y)  # Train the final model on the entire training set\n",
    "\n",
    "    # Save the trained model\n",
    "    model_path = os.path.join(output_folder, \"svm_model.pkl\")\n",
    "    joblib.dump(svm_final, model_path)\n",
    "\n",
    "    y_prob_test = svm_final.predict_proba(X_test)[:, 1]\n",
    "\n",
    "    # ROC Curve for test data\n",
    "    fpr_test, tpr_test, _ = roc_curve(y_test, y_prob_test)\n",
    "    roc_auc_test = auc(fpr_test, tpr_test)\n",
    "    plot_roc_curve(fpr_test, tpr_test, roc_auc_test, 'test_final', output_folder)\n",
    "\n",
    "    # Threshold analysis for test data\n",
    "    test_precision_at_threshold = [np.mean(y_prob_test >= t) for t in thresholds]\n",
    "    test_recall_at_threshold = [np.mean(y_test[y_prob_test >= t] == 1) for t in thresholds]\n",
    "\n",
    "    # Plot Precision and Recall vs Threshold for test data\n",
    "    plot_threshold_metrics(thresholds, test_precision_at_threshold, 'Precision', 'test_final', output_folder)\n",
    "    plot_threshold_metrics(thresholds, test_recall_at_threshold, 'Recall', 'test_final', output_folder)\n",
    "\n",
    "    # Save classification reports for different thresholds for the test set\n",
    "    save_classification_reports_for_thresholds(thresholds, y_test, y_prob_test, output_folder, 'test_final')\n",
    "\n",
    "    print(f\"Final test evaluation and plots saved in {output_folder}\")\n"
   ]
  },
  {
   "cell_type": "code",
   "execution_count": null,
   "id": "46f498a1-8227-438a-a5ff-b3cabaecd8ca",
   "metadata": {},
   "outputs": [
    {
     "name": "stdout",
     "output_type": "stream",
     "text": [
      "running fold-1\n",
      "fold-1 complete\n",
      "running fold-2\n",
      "fold-2 complete\n",
      "running fold-3\n"
     ]
    }
   ],
   "source": [
    "svm_kfold(X_train, y_train, k=5, output_folder=output_folder)"
   ]
  },
  {
   "cell_type": "code",
   "execution_count": null,
   "id": "fab8e834-ff0f-4473-99fb-ec66f6d2f37b",
   "metadata": {},
   "outputs": [],
   "source": [
    "train_svm(X_train, y_train, X_test, y_test, output_folder=output_folder)"
   ]
  },
  {
   "cell_type": "code",
   "execution_count": null,
   "id": "5bb1d358-8e53-4b8a-9987-02c210b35a5b",
   "metadata": {},
   "outputs": [],
   "source": []
  }
 ],
 "metadata": {
  "kernelspec": {
   "display_name": "py310tf2",
   "language": "python",
   "name": "py310tf2"
  },
  "language_info": {
   "codemirror_mode": {
    "name": "ipython",
    "version": 3
   },
   "file_extension": ".py",
   "mimetype": "text/x-python",
   "name": "python",
   "nbconvert_exporter": "python",
   "pygments_lexer": "ipython3",
   "version": "3.10.9"
  }
 },
 "nbformat": 4,
 "nbformat_minor": 5
}
