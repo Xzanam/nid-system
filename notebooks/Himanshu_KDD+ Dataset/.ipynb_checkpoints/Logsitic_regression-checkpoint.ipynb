{
 "cells": [
  {
   "cell_type": "code",
   "execution_count": 1,
   "id": "431138ce-8ddd-4b0d-9ad7-b9d5deea6d70",
   "metadata": {},
   "outputs": [],
   "source": [
    "import os\n",
    "import joblib\n",
    "from sklearn.linear_model import LogisticRegression\n",
    "from sklearn.metrics import classification_report, confusion_matrix, roc_curve, auc\n",
    "from sklearn.model_selection import train_test_split\n",
    "from sklearn.metrics import precision_recall_curve\n",
    "import numpy as np"
   ]
  },
  {
   "cell_type": "code",
   "execution_count": 2,
   "id": "a1eb2871-a012-42b8-994a-a86ab5d3b104",
   "metadata": {},
   "outputs": [],
   "source": [
    "from utils.preprocess_data_KDD_plus_test import preprocess_data\n",
    "from utils.plot import plot_roc_curve,plot_threshold_metrics, save_classification_reports_for_thresholds"
   ]
  },
  {
   "cell_type": "code",
   "execution_count": 3,
   "id": "ac6408cd-7503-4c57-95ac-56cc732e648a",
   "metadata": {},
   "outputs": [],
   "source": [
    "train_file_path = os.path.join( 'data', 'KDDTest+_train.csv')\n",
    "test_file_path = os.path.join('data', 'KDDTest+_test.csv')\n",
    "preprocessing_models_folder = os.path.join('preprocessing_pipeline')"
   ]
  },
  {
   "cell_type": "code",
   "execution_count": 4,
   "id": "ca3addf2-4ff1-4914-afdc-337e25df264a",
   "metadata": {},
   "outputs": [],
   "source": [
    "X_train,X_test,y_train,y_test = preprocess_data(\n",
    "    train_file_path=train_file_path,\n",
    "    test_file_path=test_file_path,\n",
    "    preprocessing_models_folder=preprocessing_models_folder\n",
    ")"
   ]
  },
  {
   "cell_type": "code",
   "execution_count": 5,
   "id": "e6bd7cdf-b4ec-4727-8aed-83027eb9c836",
   "metadata": {},
   "outputs": [
    {
     "data": {
      "text/plain": [
       "((17980, 17), (4495, 17))"
      ]
     },
     "execution_count": 5,
     "metadata": {},
     "output_type": "execute_result"
    }
   ],
   "source": [
    "X_train.shape,X_test.shape"
   ]
  },
  {
   "cell_type": "code",
   "execution_count": 6,
   "id": "4958de1f-7429-4d92-9004-6cb4a8751da4",
   "metadata": {},
   "outputs": [],
   "source": [
    "current_directory = os.path.abspath(os.getcwd())\n",
    "output_folder = os.path.join(current_directory,\"logistic_regression\")"
   ]
  },
  {
   "cell_type": "code",
   "execution_count": 7,
   "id": "2b2dee38-2b8e-496c-a2f8-bccef36aca44",
   "metadata": {},
   "outputs": [],
   "source": [
    "# Example usage in your main function\n",
    "def train_logistic_regression(X_train, X_test, y_train, y_test, output_folder='output'):\n",
    "    \"\"\"Trains logistic regression model, makes predictions, generates reports, and plots ROC curves.\"\"\"\n",
    "    os.makedirs(output_folder, exist_ok=True)\n",
    "\n",
    "    # Initialize and train the logistic regression model\n",
    "    logreg = LogisticRegression(max_iter=1000)\n",
    "    logreg.fit(X_train, y_train)\n",
    "\n",
    "    # Save the trained model\n",
    "    model_path = os.path.join(output_folder, \"logistic_regression_model.pkl\")\n",
    "    joblib.dump(logreg, model_path)\n",
    "\n",
    "    # Make predictions\n",
    "    y_pred_train = logreg.predict(X_train)\n",
    "    y_pred_test = logreg.predict(X_test)\n",
    "\n",
    "    # Predicted probabilities for ROC curve\n",
    "    y_prob_train = logreg.predict_proba(X_train)[:, 1]\n",
    "    y_prob_test = logreg.predict_proba(X_test)[:, 1]\n",
    "\n",
    "    # Classification reports and accuracy\n",
    "    report_train = classification_report(y_train, y_pred_train)\n",
    "    report_test = classification_report(y_test, y_pred_test)\n",
    "\n",
    "    # Confusion matrix\n",
    "    cm_train = confusion_matrix(y_train, y_pred_train)\n",
    "    cm_test = confusion_matrix(y_test, y_pred_test)\n",
    "\n",
    "    # Save reports to text files\n",
    "    with open(os.path.join(output_folder, \"train_report.txt\"), \"w\") as f:\n",
    "        f.write(\"Classification Report (Train):\\n\")\n",
    "        f.write(report_train)\n",
    "        f.write(\"\\nConfusion Matrix (Train):\\n\")\n",
    "        f.write(str(cm_train))\n",
    "\n",
    "    with open(os.path.join(output_folder, \"test_report.txt\"), \"w\") as f:\n",
    "        f.write(\"Classification Report (Test):\\n\")\n",
    "        f.write(report_test)\n",
    "        f.write(\"\\nConfusion Matrix (Test):\\n\")\n",
    "        f.write(str(cm_test))\n",
    "\n",
    "    # ROC Curve for training data\n",
    "    fpr_train, tpr_train, _ = roc_curve(y_train, y_prob_train)\n",
    "    roc_auc_train = auc(fpr_train, tpr_train)\n",
    "    plot_roc_curve(fpr_train, tpr_train, roc_auc_train, 'train', output_folder)\n",
    "\n",
    "    # ROC Curve for test data\n",
    "    fpr_test, tpr_test, _ = roc_curve(y_test, y_prob_test)\n",
    "    roc_auc_test = auc(fpr_test, tpr_test)\n",
    "    plot_roc_curve(fpr_test, tpr_test, roc_auc_test, 'test', output_folder)\n",
    "\n",
    "    # Threshold analysis for train and test data\n",
    "    thresholds = np.arange(0.1, 1.0, 0.05)\n",
    "\n",
    "    # Calculate metrics for different thresholds\n",
    "    train_precision_at_threshold = [np.mean(y_prob_train >= t) for t in thresholds]\n",
    "    train_recall_at_threshold = [np.mean(y_train[y_prob_train >= t] == 1) for t in thresholds]\n",
    "    test_precision_at_threshold = [np.mean(y_prob_test >= t) for t in thresholds]\n",
    "    test_recall_at_threshold = [np.mean(y_test[y_prob_test >= t] == 1) for t in thresholds]\n",
    "\n",
    "    # Plot Precision and Recall vs Threshold for train data\n",
    "    plot_threshold_metrics(thresholds, train_precision_at_threshold, 'Precision', 'train', output_folder)\n",
    "    plot_threshold_metrics(thresholds, train_recall_at_threshold, 'Recall', 'train', output_folder)\n",
    "\n",
    "    # Plot Precision and Recall vs Threshold for test data\n",
    "    plot_threshold_metrics(thresholds, test_precision_at_threshold, 'Precision', 'test', output_folder)\n",
    "    plot_threshold_metrics(thresholds, test_recall_at_threshold, 'Recall', 'test', output_folder)\n",
    "\n",
    "    # Save classification reports for different thresholds\n",
    "    save_classification_reports_for_thresholds(thresholds, y_train, y_prob_train, output_folder, 'train')\n",
    "    save_classification_reports_for_thresholds(thresholds, y_test, y_prob_test, output_folder, 'test')\n",
    "\n",
    "    print(f\"Logistic Regression model, reports, ROC curves, and threshold metrics saved in {output_folder}\")"
   ]
  },
  {
   "cell_type": "code",
   "execution_count": 8,
   "id": "83207ca9-a017-44b2-acf5-e4355b88fc71",
   "metadata": {},
   "outputs": [
    {
     "name": "stdout",
     "output_type": "stream",
     "text": [
      "Logistic Regression model, reports, ROC curves, and threshold metrics saved in /Users/himanshupradhan/coding/Projects/Major Project/IDS/KDD+ Dataset/logistic_regression\n"
     ]
    }
   ],
   "source": [
    "train_logistic_regression(X_train, X_test, y_train, y_test)"
   ]
  },
  {
   "cell_type": "code",
   "execution_count": null,
   "id": "38a806d5-264a-4ffc-9726-0b2303f2d20f",
   "metadata": {},
   "outputs": [],
   "source": []
  }
 ],
 "metadata": {
  "kernelspec": {
   "display_name": "py310tf2",
   "language": "python",
   "name": "py310tf2"
  },
  "language_info": {
   "codemirror_mode": {
    "name": "ipython",
    "version": 3
   },
   "file_extension": ".py",
   "mimetype": "text/x-python",
   "name": "python",
   "nbconvert_exporter": "python",
   "pygments_lexer": "ipython3",
   "version": "3.10.9"
  }
 },
 "nbformat": 4,
 "nbformat_minor": 5
}
