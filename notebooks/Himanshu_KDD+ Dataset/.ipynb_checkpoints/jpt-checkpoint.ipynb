{
 "cells": [
  {
   "cell_type": "code",
   "execution_count": 1,
   "id": "2175811b-2a17-4b4b-bc0a-ea127f43f757",
   "metadata": {},
   "outputs": [],
   "source": [
    "import os\n",
    "import joblib\n",
    "import numpy as np\n",
    "from sklearn.ensemble import RandomForestClassifier\n",
    "from sklearn.metrics import roc_curve, auc\n",
    "from sklearn.model_selection import KFold\n",
    "from utils.preprocess_data_KDD_plus_test import preprocess_data\n",
    "from utils.plot import plot_roc_curve, plot_threshold_metrics, save_classification_reports_for_thresholds, plot_combined_roc_curve\n"
   ]
  },
  {
   "cell_type": "code",
   "execution_count": 2,
   "id": "c48dc202-f8d3-4e35-aa5a-c95a1706a4b4",
   "metadata": {},
   "outputs": [],
   "source": [
    "train_file_path = os.path.join('data', 'KDDTrain+.csv')\n",
    "test_file_path = os.path.join('data', 'KDDTest+.csv')\n",
    "\n",
    "# Preprocess data\n",
    "preprocessing_models_folder = os.path.join('preprocessing_pipeline')\n",
    "X_train, X_test, y_train, y_test = preprocess_data(\n",
    "    train_file_path=train_file_path,\n",
    "    test_file_path=test_file_path,\n",
    "    preprocessing_models_folder=preprocessing_models_folder\n",
    ")\n",
    "\n",
    "# Set output folder\n",
    "current_directory = os.path.abspath(os.getcwd())\n",
    "output_folder = os.path.join(current_directory, \"random_forest_kfold\")"
   ]
  },
  {
   "cell_type": "code",
   "execution_count": 3,
   "id": "ee309ca9-c288-4e23-8e63-8bfdf05c8d6a",
   "metadata": {},
   "outputs": [],
   "source": [
    "def random_forest_kfold(X, y, k=5, output_folder=output_folder):\n",
    "    \"\"\"Trains Random Forest using K-Fold cross-validation, generates reports, and plots combined ROC curves.\"\"\"\n",
    "    os.makedirs(output_folder, exist_ok=True)\n",
    "    kf = KFold(n_splits=k, shuffle=True, random_state=42)\n",
    "\n",
    "    all_fpr = []\n",
    "    all_tpr = []\n",
    "    all_auc = []\n",
    "    fold_index = 0\n",
    "    thresholds = np.arange(0.1, 1.0, 0.05)\n",
    "\n",
    "    for train_index, test_index in kf.split(X):\n",
    "        print(f\"running fold-{fold_index + 1}\")\n",
    "        X_train, X_val = X[train_index], X[test_index]\n",
    "        y_train, y_val = y[train_index], y[test_index]\n",
    "\n",
    "        # Initialize and train the Random Forest model\n",
    "        rf = RandomForestClassifier(n_estimators=100, max_depth=None, random_state=42, verbose=1)\n",
    "        rf.fit(X_train, y_train)\n",
    "\n",
    "        # Predict probabilities for ROC curve\n",
    "        y_prob_val = rf.predict_proba(X_val)[:, 1]\n",
    "\n",
    "        # Compute ROC curve and AUC for the current fold\n",
    "        fpr, tpr, _ = roc_curve(y_val, y_prob_val)\n",
    "        roc_auc = auc(fpr, tpr)\n",
    "        all_fpr.append(fpr)\n",
    "        all_tpr.append(tpr)\n",
    "        all_auc.append(roc_auc)\n",
    "\n",
    "        # Plot ROC curve for the current fold\n",
    "        plot_roc_curve(fpr, tpr, roc_auc, f'fold-{fold_index+1}', output_folder)\n",
    "\n",
    "        print(f\"fold-{fold_index + 1} complete\")\n",
    "        fold_index += 1\n",
    "\n",
    "    # Plot combined ROC curves for all folds\n",
    "    plot_combined_roc_curve(all_fpr, all_tpr, all_auc, k, output_folder)\n",
    "\n",
    "    print(f\"K-Fold cross-validation completed. Results saved in {output_folder}\")\n"
   ]
  },
  {
   "cell_type": "code",
   "execution_count": 4,
   "id": "684a9443-5d96-4ab4-99fc-1ed6c4308ac7",
   "metadata": {},
   "outputs": [],
   "source": [
    "def train_random_forest(X, y, X_test, y_test, output_folder=output_folder):\n",
    "    \"\"\"Trains the final model on the full training set and evaluates on the test set.\"\"\"\n",
    "    thresholds = np.arange(0.1, 1.0, 0.05)\n",
    "\n",
    "    # Final evaluation on test set (X_test, y_test)\n",
    "    print(\"Final evaluation on test set:\")\n",
    "    rf_final = RandomForestClassifier(n_estimators=100, max_depth=None, random_state=42)\n",
    "    rf_final.fit(X, y)  # Train the final model on the entire training set\n",
    "\n",
    "    # Save the trained model\n",
    "    model_path = os.path.join(output_folder, \"random_forest_model.pkl\")\n",
    "    joblib.dump(rf_final, model_path)\n",
    "\n",
    "    y_prob_test = rf_final.predict_proba(X_test)[:, 1]\n",
    "\n",
    "    # ROC Curve for test data\n",
    "    fpr_test, tpr_test, _ = roc_curve(y_test, y_prob_test)\n",
    "    roc_auc_test = auc(fpr_test, tpr_test)\n",
    "    plot_roc_curve(fpr_test, tpr_test, roc_auc_test, 'test_final', output_folder)\n",
    "\n",
    "    # Threshold analysis for test data\n",
    "    test_precision_at_threshold = [np.mean(y_prob_test >= t) for t in thresholds]\n",
    "    test_recall_at_threshold = [np.mean(y_test[y_prob_test >= t] == 1) for t in thresholds]\n",
    "\n",
    "    # Plot Precision and Recall vs Threshold for test data\n",
    "    plot_threshold_metrics(thresholds, test_precision_at_threshold, 'Precision', 'test_final', output_folder)\n",
    "    plot_threshold_metrics(thresholds, test_recall_at_threshold, 'Recall', 'test_final', output_folder)\n",
    "\n",
    "    # Save classification reports for different thresholds for the test set\n",
    "    save_classification_reports_for_thresholds(thresholds, y_test, y_prob_test, output_folder, 'test_final')\n",
    "\n",
    "    print(f\"Final test evaluation and plots saved in {output_folder}\")\n"
   ]
  },
  {
   "cell_type": "code",
   "execution_count": null,
   "id": "37e36070-55df-480d-a18e-12c95fe2276a",
   "metadata": {},
   "outputs": [
    {
     "name": "stderr",
     "output_type": "stream",
     "text": [
      "[Parallel(n_jobs=1)]: Done  49 tasks      | elapsed:   23.6s\n",
      "[Parallel(n_jobs=1)]: Done  49 tasks      | elapsed:    0.1s\n"
     ]
    },
    {
     "name": "stdout",
     "output_type": "stream",
     "text": [
      "fold: 1 complete\n"
     ]
    },
    {
     "name": "stderr",
     "output_type": "stream",
     "text": [
      "[Parallel(n_jobs=1)]: Done  49 tasks      | elapsed:   22.3s\n",
      "[Parallel(n_jobs=1)]: Done  49 tasks      | elapsed:    0.1s\n"
     ]
    },
    {
     "name": "stdout",
     "output_type": "stream",
     "text": [
      "fold: 2 complete\n"
     ]
    },
    {
     "name": "stderr",
     "output_type": "stream",
     "text": [
      "[Parallel(n_jobs=1)]: Done  49 tasks      | elapsed:   22.7s\n",
      "[Parallel(n_jobs=1)]: Done  49 tasks      | elapsed:    0.1s\n"
     ]
    },
    {
     "name": "stdout",
     "output_type": "stream",
     "text": [
      "fold: 3 complete\n"
     ]
    }
   ],
   "source": [
    "random_forest_kfold(X_train, y_train, k=5, output_folder=output_folder)\n"
   ]
  },
  {
   "cell_type": "code",
   "execution_count": null,
   "id": "3e92a53a-c5ad-4a32-8dcd-64443c0fcf05",
   "metadata": {},
   "outputs": [],
   "source": [
    "train_random_forest(X_train, y_train, X_test, y_test, output_folder=output_folder)"
   ]
  }
 ],
 "metadata": {
  "kernelspec": {
   "display_name": "py310tf2",
   "language": "python",
   "name": "py310tf2"
  },
  "language_info": {
   "codemirror_mode": {
    "name": "ipython",
    "version": 3
   },
   "file_extension": ".py",
   "mimetype": "text/x-python",
   "name": "python",
   "nbconvert_exporter": "python",
   "pygments_lexer": "ipython3",
   "version": "3.10.9"
  }
 },
 "nbformat": 4,
 "nbformat_minor": 5
}
