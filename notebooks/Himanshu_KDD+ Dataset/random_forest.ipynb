{
 "cells": [
  {
   "cell_type": "code",
   "execution_count": 2,
   "id": "4d128a12-6f6c-4520-8ed4-3dbd6d03c9ce",
   "metadata": {},
   "outputs": [],
   "source": [
    "import os\n",
    "import joblib\n",
    "import numpy as np\n",
    "from sklearn.ensemble import RandomForestClassifier\n",
    "from sklearn.metrics import classification_report, confusion_matrix, roc_curve, auc\n",
    "from sklearn.model_selection import KFold\n"
   ]
  },
  {
   "cell_type": "code",
   "execution_count": 6,
   "id": "814c9e71-84c7-4280-b603-4e9d53ae94bf",
   "metadata": {},
   "outputs": [],
   "source": [
    "from utils.preprocess_data_KDD_plus_test import preprocess_data\n",
    "from utils.plot import plot_roc_curve, plot_threshold_metrics, save_classification_reports_for_thresholds\n"
   ]
  },
  {
   "cell_type": "code",
   "execution_count": 7,
   "id": "7c33b1c4-a8e4-4de1-a181-4cb8fbab6e6f",
   "metadata": {},
   "outputs": [],
   "source": [
    "train_file_path = os.path.join('data', 'KDDTrain+.csv')\n",
    "test_file_path = os.path.join('data', 'KDDTest+.csv')\n",
    "\n",
    "# Preprocess data\n",
    "preprocessing_models_folder = os.path.join('preprocessing_pipeline')\n",
    "X_train, X_test, y_train, y_test = preprocess_data(\n",
    "    train_file_path=train_file_path,\n",
    "    test_file_path=test_file_path,\n",
    "    preprocessing_models_folder=preprocessing_models_folder\n",
    ")\n",
    "\n",
    "# Set output folder\n",
    "current_directory = os.path.abspath(os.getcwd())\n",
    "output_folder = os.path.join(current_directory, \"random_forest_kfold\")\n"
   ]
  },
  {
   "cell_type": "code",
   "execution_count": 4,
   "id": "4c9fd9f1-929d-43ef-9f82-a720c3e65f84",
   "metadata": {},
   "outputs": [],
   "source": [
    "def train_random_forest(X_train, X_test, y_train, y_test, output_folder=output_folder):\n",
    "    \"\"\"Trains Random Forest model, makes predictions, generates reports, and plots ROC curves.\"\"\"\n",
    "    os.makedirs(output_folder, exist_ok=True)\n",
    "\n",
    "    # Initialize and train the Random Forest model\n",
    "    rf = RandomForestClassifier(n_estimators=100, max_depth=None, random_state=42)\n",
    "    rf.fit(X_train, y_train)\n",
    "\n",
    "    # Save the trained model\n",
    "    model_path = os.path.join(output_folder, \"random_forest_model.pkl\")\n",
    "    joblib.dump(rf, model_path)\n",
    "\n",
    "    # Make predictions\n",
    "    y_pred_train = rf.predict(X_train)\n",
    "    y_pred_test = rf.predict(X_test)\n",
    "\n",
    "    # Predicted probabilities for ROC curve\n",
    "    y_prob_train = rf.predict_proba(X_train)[:, 1]\n",
    "    y_prob_test = rf.predict_proba(X_test)[:, 1]\n",
    "\n",
    "    # Classification reports and accuracy\n",
    "    report_train = classification_report(y_train, y_pred_train)\n",
    "    report_test = classification_report(y_test, y_pred_test)\n",
    "\n",
    "    # Confusion matrix\n",
    "    cm_train = confusion_matrix(y_train, y_pred_train)\n",
    "    cm_test = confusion_matrix(y_test, y_pred_test)\n",
    "\n",
    "    # Save reports to text files\n",
    "    with open(os.path.join(output_folder, \"train_report.txt\"), \"w\") as f:\n",
    "        f.write(\"Classification Report (Train):\\n\")\n",
    "        f.write(report_train)\n",
    "        f.write(\"\\nConfusion Matrix (Train):\\n\")\n",
    "        f.write(str(cm_train))\n",
    "\n",
    "    with open(os.path.join(output_folder, \"test_report.txt\"), \"w\") as f:\n",
    "        f.write(\"Classification Report (Test):\\n\")\n",
    "        f.write(report_test)\n",
    "        f.write(\"\\nConfusion Matrix (Test):\\n\")\n",
    "        f.write(str(cm_test))\n",
    "\n",
    "    # ROC Curve for training data\n",
    "    fpr_train, tpr_train, _ = roc_curve(y_train, y_prob_train)\n",
    "    roc_auc_train = auc(fpr_train, tpr_train)\n",
    "    plot_roc_curve(fpr_train, tpr_train, roc_auc_train, 'train', output_folder)\n",
    "\n",
    "    # ROC Curve for test data\n",
    "    fpr_test, tpr_test, _ = roc_curve(y_test, y_prob_test)\n",
    "    roc_auc_test = auc(fpr_test, tpr_test)\n",
    "    plot_roc_curve(fpr_test, tpr_test, roc_auc_test, 'test', output_folder)\n",
    "\n",
    "    # Threshold analysis for train and test data\n",
    "    thresholds = np.arange(0.1, 1.0, 0.05)\n",
    "\n",
    "    # Calculate metrics for different thresholds\n",
    "    train_precision_at_threshold = [np.mean(y_prob_train >= t) for t in thresholds]\n",
    "    train_recall_at_threshold = [np.mean(y_train[y_prob_train >= t] == 1) for t in thresholds]\n",
    "    test_precision_at_threshold = [np.mean(y_prob_test >= t) for t in thresholds]\n",
    "    test_recall_at_threshold = [np.mean(y_test[y_prob_test >= t] == 1) for t in thresholds]\n",
    "\n",
    "    # Plot Precision and Recall vs Threshold for train data\n",
    "    plot_threshold_metrics(thresholds, train_precision_at_threshold, 'Precision', 'train', output_folder)\n",
    "    plot_threshold_metrics(thresholds, train_recall_at_threshold, 'Recall', 'train', output_folder)\n",
    "\n",
    "    # Plot Precision and Recall vs Threshold for test data\n",
    "    plot_threshold_metrics(thresholds, test_precision_at_threshold, 'Precision', 'test', output_folder)\n",
    "    plot_threshold_metrics(thresholds, test_recall_at_threshold, 'Recall', 'test', output_folder)\n",
    "\n",
    "    # Save classification reports for different thresholds\n",
    "    save_classification_reports_for_thresholds(thresholds, y_train, y_prob_train, output_folder, 'train')\n",
    "    save_classification_reports_for_thresholds(thresholds, y_test, y_prob_test, output_folder, 'test')\n",
    "\n",
    "    print(f\"Random Forest model, reports, ROC curves, and threshold metrics saved in {output_folder}\")\n",
    "\n"
   ]
  },
  {
   "cell_type": "code",
   "execution_count": 5,
   "id": "1bc55b11-7d97-4774-99d0-4c01ae450a7b",
   "metadata": {},
   "outputs": [
    {
     "name": "stdout",
     "output_type": "stream",
     "text": [
      "Random Forest model, reports, ROC curves, and threshold metrics saved in /Users/himanshupradhan/coding/Projects/Major Project/IDS/KDD+ Dataset/random_forest\n"
     ]
    }
   ],
   "source": [
    "# Train and evaluate the Random Forest model\n",
    "train_random_forest(X_train, X_test, y_train, y_test)"
   ]
  },
  {
   "cell_type": "code",
   "execution_count": null,
   "id": "c8aadc13-d305-4e6e-bd02-4933986b4716",
   "metadata": {},
   "outputs": [],
   "source": []
  }
 ],
 "metadata": {
  "kernelspec": {
   "display_name": "py310tf2",
   "language": "python",
   "name": "py310tf2"
  },
  "language_info": {
   "codemirror_mode": {
    "name": "ipython",
    "version": 3
   },
   "file_extension": ".py",
   "mimetype": "text/x-python",
   "name": "python",
   "nbconvert_exporter": "python",
   "pygments_lexer": "ipython3",
   "version": "3.10.9"
  }
 },
 "nbformat": 4,
 "nbformat_minor": 5
}
